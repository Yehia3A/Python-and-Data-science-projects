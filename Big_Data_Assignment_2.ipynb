{
  "nbformat": 4,
  "nbformat_minor": 0,
  "metadata": {
    "colab": {
      "provenance": [],
      "collapsed_sections": [
        "xRVC8kPO3RG3"
      ]
    },
    "kernelspec": {
      "name": "python3",
      "display_name": "Python 3"
    },
    "language_info": {
      "name": "python"
    }
  },
  "cells": [
    {
      "cell_type": "code",
      "execution_count": null,
      "metadata": {
        "colab": {
          "base_uri": "https://localhost:8080/"
        },
        "id": "iFQFZuSHtl0F",
        "outputId": "5975f762-ea76-4d70-a5e9-ece8eb2a3371"
      },
      "outputs": [
        {
          "output_type": "stream",
          "name": "stdout",
          "text": [
            "Requirement already satisfied: pyspark in /usr/local/lib/python3.11/dist-packages (3.5.5)\n",
            "Requirement already satisfied: py4j==0.10.9.7 in /usr/local/lib/python3.11/dist-packages (from pyspark) (0.10.9.7)\n",
            "Collecting findspark\n",
            "  Downloading findspark-2.0.1-py2.py3-none-any.whl.metadata (352 bytes)\n",
            "Downloading findspark-2.0.1-py2.py3-none-any.whl (4.4 kB)\n",
            "Installing collected packages: findspark\n",
            "Successfully installed findspark-2.0.1\n",
            "Collecting pyarrow==1.0.0\n",
            "  Downloading pyarrow-1.0.0.tar.gz (1.2 MB)\n",
            "\u001b[2K     \u001b[90m━━━━━━━━━━━━━━━━━━━━━━━━━━━━━━━━━━━━━━━━\u001b[0m \u001b[32m1.2/1.2 MB\u001b[0m \u001b[31m15.0 MB/s\u001b[0m eta \u001b[36m0:00:00\u001b[0m\n",
            "\u001b[?25h  \u001b[1;31merror\u001b[0m: \u001b[1msubprocess-exited-with-error\u001b[0m\n",
            "  \n",
            "  \u001b[31m×\u001b[0m \u001b[32mpip subprocess to install build dependencies\u001b[0m did not run successfully.\n",
            "  \u001b[31m│\u001b[0m exit code: \u001b[1;36m1\u001b[0m\n",
            "  \u001b[31m╰─>\u001b[0m See above for output.\n",
            "  \n",
            "  \u001b[1;35mnote\u001b[0m: This error originates from a subprocess, and is likely not a problem with pip.\n",
            "  Installing build dependencies ... \u001b[?25l\u001b[?25herror\n",
            "\u001b[1;31merror\u001b[0m: \u001b[1msubprocess-exited-with-error\u001b[0m\n",
            "\n",
            "\u001b[31m×\u001b[0m \u001b[32mpip subprocess to install build dependencies\u001b[0m did not run successfully.\n",
            "\u001b[31m│\u001b[0m exit code: \u001b[1;36m1\u001b[0m\n",
            "\u001b[31m╰─>\u001b[0m See above for output.\n",
            "\n",
            "\u001b[1;35mnote\u001b[0m: This error originates from a subprocess, and is likely not a problem with pip.\n",
            "Requirement already satisfied: pandas in /usr/local/lib/python3.11/dist-packages (2.2.2)\n",
            "Requirement already satisfied: numpy>=1.23.2 in /usr/local/lib/python3.11/dist-packages (from pandas) (2.0.2)\n",
            "Requirement already satisfied: python-dateutil>=2.8.2 in /usr/local/lib/python3.11/dist-packages (from pandas) (2.9.0.post0)\n",
            "Requirement already satisfied: pytz>=2020.1 in /usr/local/lib/python3.11/dist-packages (from pandas) (2025.2)\n",
            "Requirement already satisfied: tzdata>=2022.7 in /usr/local/lib/python3.11/dist-packages (from pandas) (2025.2)\n",
            "Requirement already satisfied: six>=1.5 in /usr/local/lib/python3.11/dist-packages (from python-dateutil>=2.8.2->pandas) (1.17.0)\n",
            "Collecting numpy==1.19.5\n",
            "  Downloading numpy-1.19.5.zip (7.3 MB)\n",
            "\u001b[2K     \u001b[90m━━━━━━━━━━━━━━━━━━━━━━━━━━━━━━━━━━━━━━━━\u001b[0m \u001b[32m7.3/7.3 MB\u001b[0m \u001b[31m51.8 MB/s\u001b[0m eta \u001b[36m0:00:00\u001b[0m\n",
            "\u001b[?25h  Installing build dependencies ... \u001b[?25l\u001b[?25hdone\n",
            "  Getting requirements to build wheel ... \u001b[?25l\u001b[?25hdone\n",
            "  Preparing metadata (pyproject.toml) ... \u001b[?25l\u001b[?25hdone\n",
            "Building wheels for collected packages: numpy\n",
            "  \u001b[1;31merror\u001b[0m: \u001b[1msubprocess-exited-with-error\u001b[0m\n",
            "  \n",
            "  \u001b[31m×\u001b[0m \u001b[32mBuilding wheel for numpy \u001b[0m\u001b[1;32m(\u001b[0m\u001b[32mpyproject.toml\u001b[0m\u001b[1;32m)\u001b[0m did not run successfully.\n",
            "  \u001b[31m│\u001b[0m exit code: \u001b[1;36m1\u001b[0m\n",
            "  \u001b[31m╰─>\u001b[0m See above for output.\n",
            "  \n",
            "  \u001b[1;35mnote\u001b[0m: This error originates from a subprocess, and is likely not a problem with pip.\n",
            "  Building wheel for numpy (pyproject.toml) ... \u001b[?25l\u001b[?25herror\n",
            "\u001b[31m  ERROR: Failed building wheel for numpy\u001b[0m\u001b[31m\n",
            "\u001b[0mFailed to build numpy\n",
            "\u001b[31mERROR: ERROR: Failed to build installable wheels for some pyproject.toml based projects (numpy)\u001b[0m\u001b[31m\n",
            "\u001b[0m"
          ]
        }
      ],
      "source": [
        " # Installing required packages\n",
        "!pip install pyspark\n",
        "!pip install findspark\n",
        "!pip install pyarrow==1.0.0\n",
        "!pip install pandas\n",
        "!pip install numpy==1.19.5"
      ]
    },
    {
      "cell_type": "code",
      "source": [
        "import findspark\n",
        "findspark.init()\n",
        "import pandas as pd\n",
        "from pyspark import SparkContext, SparkConf\n",
        "from pyspark.sql import SparkSession\n",
        "from pyspark.sql.functions import when\n",
        "from pyspark.sql.functions import col\n",
        "from pyspark.sql.functions import avg"
      ],
      "metadata": {
        "id": "5Q3HAlFzuulz"
      },
      "execution_count": null,
      "outputs": []
    },
    {
      "cell_type": "markdown",
      "source": [
        "# Initing spark session"
      ],
      "metadata": {
        "id": "nPLfBJCX850A"
      }
    },
    {
      "cell_type": "code",
      "source": [
        "# Creating a spark context class\n",
        "sc = SparkContext()\n",
        "\n",
        "# Creating a spark session\n",
        "spark = SparkSession \\\n",
        "    .builder \\\n",
        "    .appName(\"Big-Data-Assignment-2\") \\\n",
        "    .config(\"spark.some.config.option\", \"some-value\") \\\n",
        "    .getOrCreate()"
      ],
      "metadata": {
        "id": "TXI2hXPsuyHK"
      },
      "execution_count": null,
      "outputs": []
    },
    {
      "cell_type": "code",
      "source": [
        "spark"
      ],
      "metadata": {
        "id": "QMGD-hQ0uyBK",
        "colab": {
          "base_uri": "https://localhost:8080/"
        },
        "outputId": "d3060215-19e3-4dd7-8224-b5ce0907734e"
      },
      "execution_count": null,
      "outputs": [
        {
          "output_type": "execute_result",
          "data": {
            "text/plain": [
              "<pyspark.sql.session.SparkSession at 0x7b3c19f52f50>"
            ],
            "text/html": [
              "\n",
              "            <div>\n",
              "                <p><b>SparkSession - in-memory</b></p>\n",
              "                \n",
              "        <div>\n",
              "            <p><b>SparkContext</b></p>\n",
              "\n",
              "            <p><a href=\"http://6986e2ce43ae:4040\">Spark UI</a></p>\n",
              "\n",
              "            <dl>\n",
              "              <dt>Version</dt>\n",
              "                <dd><code>v3.5.5</code></dd>\n",
              "              <dt>Master</dt>\n",
              "                <dd><code>local[*]</code></dd>\n",
              "              <dt>AppName</dt>\n",
              "                <dd><code>pyspark-shell</code></dd>\n",
              "            </dl>\n",
              "        </div>\n",
              "        \n",
              "            </div>\n",
              "        "
            ]
          },
          "metadata": {},
          "execution_count": 4
        }
      ]
    },
    {
      "cell_type": "markdown",
      "source": [
        "# Pre-Processing"
      ],
      "metadata": {
        "id": "Yq-dJ7SUxqj9"
      }
    },
    {
      "cell_type": "code",
      "source": [
        "# Read data\n",
        "data = pd.read_csv(\"egphotelbookings.csv\")\n",
        "data.head()\n"
      ],
      "metadata": {
        "id": "1-yoAmkovglV",
        "colab": {
          "base_uri": "https://localhost:8080/",
          "height": 360
        },
        "outputId": "ec14e903-425e-4496-94fb-5b25e2e8b686"
      },
      "execution_count": null,
      "outputs": [
        {
          "output_type": "execute_result",
          "data": {
            "text/plain": [
              "   Unnamed: 0              hotel  is_canceled  lead_time  arrival_date_year  \\\n",
              "0           0  Renaissance Hotel            0        342               2018   \n",
              "1           1  Renaissance Hotel            0        737               2018   \n",
              "2           2  Renaissance Hotel            0          7               2018   \n",
              "3           3  Renaissance Hotel            0         13               2018   \n",
              "4           4  Renaissance Hotel            0         14               2018   \n",
              "\n",
              "  arrival_date_month  arrival_date_week_number  arrival_date_day_of_month  \\\n",
              "0               July                        27                          1   \n",
              "1               July                        27                          1   \n",
              "2               July                        27                          1   \n",
              "3               July                        27                          1   \n",
              "4               July                        27                          1   \n",
              "\n",
              "   stays_in_weekend_nights  stays_in_week_nights  ...  assigned_room_type  \\\n",
              "0                        0                     0  ...                   C   \n",
              "1                        0                     0  ...                   C   \n",
              "2                        0                     1  ...                   C   \n",
              "3                        0                     1  ...                   A   \n",
              "4                        0                     2  ...                   A   \n",
              "\n",
              "   booking_changes  deposit_type  agent company days_in_waiting_list  \\\n",
              "0                3    No Deposit    NaN     NaN                    0   \n",
              "1                4    No Deposit    NaN     NaN                    0   \n",
              "2                0    No Deposit    NaN     NaN                    0   \n",
              "3                0    No Deposit  304.0     NaN                    0   \n",
              "4                0    No Deposit  240.0     NaN                    0   \n",
              "\n",
              "   customer_type   adr  required_car_parking_spaces total_of_special_requests  \n",
              "0      Transient   0.0                            0                         0  \n",
              "1      Transient   0.0                            0                         0  \n",
              "2      Transient  75.0                            0                         0  \n",
              "3      Transient  75.0                            0                         0  \n",
              "4      Transient  98.0                            0                         1  \n",
              "\n",
              "[5 rows x 30 columns]"
            ],
            "text/html": [
              "\n",
              "  <div id=\"df-6ee18bb2-3b79-4214-a818-f8af8ae1a2ed\" class=\"colab-df-container\">\n",
              "    <div>\n",
              "<style scoped>\n",
              "    .dataframe tbody tr th:only-of-type {\n",
              "        vertical-align: middle;\n",
              "    }\n",
              "\n",
              "    .dataframe tbody tr th {\n",
              "        vertical-align: top;\n",
              "    }\n",
              "\n",
              "    .dataframe thead th {\n",
              "        text-align: right;\n",
              "    }\n",
              "</style>\n",
              "<table border=\"1\" class=\"dataframe\">\n",
              "  <thead>\n",
              "    <tr style=\"text-align: right;\">\n",
              "      <th></th>\n",
              "      <th>Unnamed: 0</th>\n",
              "      <th>hotel</th>\n",
              "      <th>is_canceled</th>\n",
              "      <th>lead_time</th>\n",
              "      <th>arrival_date_year</th>\n",
              "      <th>arrival_date_month</th>\n",
              "      <th>arrival_date_week_number</th>\n",
              "      <th>arrival_date_day_of_month</th>\n",
              "      <th>stays_in_weekend_nights</th>\n",
              "      <th>stays_in_week_nights</th>\n",
              "      <th>...</th>\n",
              "      <th>assigned_room_type</th>\n",
              "      <th>booking_changes</th>\n",
              "      <th>deposit_type</th>\n",
              "      <th>agent</th>\n",
              "      <th>company</th>\n",
              "      <th>days_in_waiting_list</th>\n",
              "      <th>customer_type</th>\n",
              "      <th>adr</th>\n",
              "      <th>required_car_parking_spaces</th>\n",
              "      <th>total_of_special_requests</th>\n",
              "    </tr>\n",
              "  </thead>\n",
              "  <tbody>\n",
              "    <tr>\n",
              "      <th>0</th>\n",
              "      <td>0</td>\n",
              "      <td>Renaissance Hotel</td>\n",
              "      <td>0</td>\n",
              "      <td>342</td>\n",
              "      <td>2018</td>\n",
              "      <td>July</td>\n",
              "      <td>27</td>\n",
              "      <td>1</td>\n",
              "      <td>0</td>\n",
              "      <td>0</td>\n",
              "      <td>...</td>\n",
              "      <td>C</td>\n",
              "      <td>3</td>\n",
              "      <td>No Deposit</td>\n",
              "      <td>NaN</td>\n",
              "      <td>NaN</td>\n",
              "      <td>0</td>\n",
              "      <td>Transient</td>\n",
              "      <td>0.0</td>\n",
              "      <td>0</td>\n",
              "      <td>0</td>\n",
              "    </tr>\n",
              "    <tr>\n",
              "      <th>1</th>\n",
              "      <td>1</td>\n",
              "      <td>Renaissance Hotel</td>\n",
              "      <td>0</td>\n",
              "      <td>737</td>\n",
              "      <td>2018</td>\n",
              "      <td>July</td>\n",
              "      <td>27</td>\n",
              "      <td>1</td>\n",
              "      <td>0</td>\n",
              "      <td>0</td>\n",
              "      <td>...</td>\n",
              "      <td>C</td>\n",
              "      <td>4</td>\n",
              "      <td>No Deposit</td>\n",
              "      <td>NaN</td>\n",
              "      <td>NaN</td>\n",
              "      <td>0</td>\n",
              "      <td>Transient</td>\n",
              "      <td>0.0</td>\n",
              "      <td>0</td>\n",
              "      <td>0</td>\n",
              "    </tr>\n",
              "    <tr>\n",
              "      <th>2</th>\n",
              "      <td>2</td>\n",
              "      <td>Renaissance Hotel</td>\n",
              "      <td>0</td>\n",
              "      <td>7</td>\n",
              "      <td>2018</td>\n",
              "      <td>July</td>\n",
              "      <td>27</td>\n",
              "      <td>1</td>\n",
              "      <td>0</td>\n",
              "      <td>1</td>\n",
              "      <td>...</td>\n",
              "      <td>C</td>\n",
              "      <td>0</td>\n",
              "      <td>No Deposit</td>\n",
              "      <td>NaN</td>\n",
              "      <td>NaN</td>\n",
              "      <td>0</td>\n",
              "      <td>Transient</td>\n",
              "      <td>75.0</td>\n",
              "      <td>0</td>\n",
              "      <td>0</td>\n",
              "    </tr>\n",
              "    <tr>\n",
              "      <th>3</th>\n",
              "      <td>3</td>\n",
              "      <td>Renaissance Hotel</td>\n",
              "      <td>0</td>\n",
              "      <td>13</td>\n",
              "      <td>2018</td>\n",
              "      <td>July</td>\n",
              "      <td>27</td>\n",
              "      <td>1</td>\n",
              "      <td>0</td>\n",
              "      <td>1</td>\n",
              "      <td>...</td>\n",
              "      <td>A</td>\n",
              "      <td>0</td>\n",
              "      <td>No Deposit</td>\n",
              "      <td>304.0</td>\n",
              "      <td>NaN</td>\n",
              "      <td>0</td>\n",
              "      <td>Transient</td>\n",
              "      <td>75.0</td>\n",
              "      <td>0</td>\n",
              "      <td>0</td>\n",
              "    </tr>\n",
              "    <tr>\n",
              "      <th>4</th>\n",
              "      <td>4</td>\n",
              "      <td>Renaissance Hotel</td>\n",
              "      <td>0</td>\n",
              "      <td>14</td>\n",
              "      <td>2018</td>\n",
              "      <td>July</td>\n",
              "      <td>27</td>\n",
              "      <td>1</td>\n",
              "      <td>0</td>\n",
              "      <td>2</td>\n",
              "      <td>...</td>\n",
              "      <td>A</td>\n",
              "      <td>0</td>\n",
              "      <td>No Deposit</td>\n",
              "      <td>240.0</td>\n",
              "      <td>NaN</td>\n",
              "      <td>0</td>\n",
              "      <td>Transient</td>\n",
              "      <td>98.0</td>\n",
              "      <td>0</td>\n",
              "      <td>1</td>\n",
              "    </tr>\n",
              "  </tbody>\n",
              "</table>\n",
              "<p>5 rows × 30 columns</p>\n",
              "</div>\n",
              "    <div class=\"colab-df-buttons\">\n",
              "\n",
              "  <div class=\"colab-df-container\">\n",
              "    <button class=\"colab-df-convert\" onclick=\"convertToInteractive('df-6ee18bb2-3b79-4214-a818-f8af8ae1a2ed')\"\n",
              "            title=\"Convert this dataframe to an interactive table.\"\n",
              "            style=\"display:none;\">\n",
              "\n",
              "  <svg xmlns=\"http://www.w3.org/2000/svg\" height=\"24px\" viewBox=\"0 -960 960 960\">\n",
              "    <path d=\"M120-120v-720h720v720H120Zm60-500h600v-160H180v160Zm220 220h160v-160H400v160Zm0 220h160v-160H400v160ZM180-400h160v-160H180v160Zm440 0h160v-160H620v160ZM180-180h160v-160H180v160Zm440 0h160v-160H620v160Z\"/>\n",
              "  </svg>\n",
              "    </button>\n",
              "\n",
              "  <style>\n",
              "    .colab-df-container {\n",
              "      display:flex;\n",
              "      gap: 12px;\n",
              "    }\n",
              "\n",
              "    .colab-df-convert {\n",
              "      background-color: #E8F0FE;\n",
              "      border: none;\n",
              "      border-radius: 50%;\n",
              "      cursor: pointer;\n",
              "      display: none;\n",
              "      fill: #1967D2;\n",
              "      height: 32px;\n",
              "      padding: 0 0 0 0;\n",
              "      width: 32px;\n",
              "    }\n",
              "\n",
              "    .colab-df-convert:hover {\n",
              "      background-color: #E2EBFA;\n",
              "      box-shadow: 0px 1px 2px rgba(60, 64, 67, 0.3), 0px 1px 3px 1px rgba(60, 64, 67, 0.15);\n",
              "      fill: #174EA6;\n",
              "    }\n",
              "\n",
              "    .colab-df-buttons div {\n",
              "      margin-bottom: 4px;\n",
              "    }\n",
              "\n",
              "    [theme=dark] .colab-df-convert {\n",
              "      background-color: #3B4455;\n",
              "      fill: #D2E3FC;\n",
              "    }\n",
              "\n",
              "    [theme=dark] .colab-df-convert:hover {\n",
              "      background-color: #434B5C;\n",
              "      box-shadow: 0px 1px 3px 1px rgba(0, 0, 0, 0.15);\n",
              "      filter: drop-shadow(0px 1px 2px rgba(0, 0, 0, 0.3));\n",
              "      fill: #FFFFFF;\n",
              "    }\n",
              "  </style>\n",
              "\n",
              "    <script>\n",
              "      const buttonEl =\n",
              "        document.querySelector('#df-6ee18bb2-3b79-4214-a818-f8af8ae1a2ed button.colab-df-convert');\n",
              "      buttonEl.style.display =\n",
              "        google.colab.kernel.accessAllowed ? 'block' : 'none';\n",
              "\n",
              "      async function convertToInteractive(key) {\n",
              "        const element = document.querySelector('#df-6ee18bb2-3b79-4214-a818-f8af8ae1a2ed');\n",
              "        const dataTable =\n",
              "          await google.colab.kernel.invokeFunction('convertToInteractive',\n",
              "                                                    [key], {});\n",
              "        if (!dataTable) return;\n",
              "\n",
              "        const docLinkHtml = 'Like what you see? Visit the ' +\n",
              "          '<a target=\"_blank\" href=https://colab.research.google.com/notebooks/data_table.ipynb>data table notebook</a>'\n",
              "          + ' to learn more about interactive tables.';\n",
              "        element.innerHTML = '';\n",
              "        dataTable['output_type'] = 'display_data';\n",
              "        await google.colab.output.renderOutput(dataTable, element);\n",
              "        const docLink = document.createElement('div');\n",
              "        docLink.innerHTML = docLinkHtml;\n",
              "        element.appendChild(docLink);\n",
              "      }\n",
              "    </script>\n",
              "  </div>\n",
              "\n",
              "\n",
              "    <div id=\"df-35b5250c-171b-48c7-9313-b73fdf69b8f6\">\n",
              "      <button class=\"colab-df-quickchart\" onclick=\"quickchart('df-35b5250c-171b-48c7-9313-b73fdf69b8f6')\"\n",
              "                title=\"Suggest charts\"\n",
              "                style=\"display:none;\">\n",
              "\n",
              "<svg xmlns=\"http://www.w3.org/2000/svg\" height=\"24px\"viewBox=\"0 0 24 24\"\n",
              "     width=\"24px\">\n",
              "    <g>\n",
              "        <path d=\"M19 3H5c-1.1 0-2 .9-2 2v14c0 1.1.9 2 2 2h14c1.1 0 2-.9 2-2V5c0-1.1-.9-2-2-2zM9 17H7v-7h2v7zm4 0h-2V7h2v10zm4 0h-2v-4h2v4z\"/>\n",
              "    </g>\n",
              "</svg>\n",
              "      </button>\n",
              "\n",
              "<style>\n",
              "  .colab-df-quickchart {\n",
              "      --bg-color: #E8F0FE;\n",
              "      --fill-color: #1967D2;\n",
              "      --hover-bg-color: #E2EBFA;\n",
              "      --hover-fill-color: #174EA6;\n",
              "      --disabled-fill-color: #AAA;\n",
              "      --disabled-bg-color: #DDD;\n",
              "  }\n",
              "\n",
              "  [theme=dark] .colab-df-quickchart {\n",
              "      --bg-color: #3B4455;\n",
              "      --fill-color: #D2E3FC;\n",
              "      --hover-bg-color: #434B5C;\n",
              "      --hover-fill-color: #FFFFFF;\n",
              "      --disabled-bg-color: #3B4455;\n",
              "      --disabled-fill-color: #666;\n",
              "  }\n",
              "\n",
              "  .colab-df-quickchart {\n",
              "    background-color: var(--bg-color);\n",
              "    border: none;\n",
              "    border-radius: 50%;\n",
              "    cursor: pointer;\n",
              "    display: none;\n",
              "    fill: var(--fill-color);\n",
              "    height: 32px;\n",
              "    padding: 0;\n",
              "    width: 32px;\n",
              "  }\n",
              "\n",
              "  .colab-df-quickchart:hover {\n",
              "    background-color: var(--hover-bg-color);\n",
              "    box-shadow: 0 1px 2px rgba(60, 64, 67, 0.3), 0 1px 3px 1px rgba(60, 64, 67, 0.15);\n",
              "    fill: var(--button-hover-fill-color);\n",
              "  }\n",
              "\n",
              "  .colab-df-quickchart-complete:disabled,\n",
              "  .colab-df-quickchart-complete:disabled:hover {\n",
              "    background-color: var(--disabled-bg-color);\n",
              "    fill: var(--disabled-fill-color);\n",
              "    box-shadow: none;\n",
              "  }\n",
              "\n",
              "  .colab-df-spinner {\n",
              "    border: 2px solid var(--fill-color);\n",
              "    border-color: transparent;\n",
              "    border-bottom-color: var(--fill-color);\n",
              "    animation:\n",
              "      spin 1s steps(1) infinite;\n",
              "  }\n",
              "\n",
              "  @keyframes spin {\n",
              "    0% {\n",
              "      border-color: transparent;\n",
              "      border-bottom-color: var(--fill-color);\n",
              "      border-left-color: var(--fill-color);\n",
              "    }\n",
              "    20% {\n",
              "      border-color: transparent;\n",
              "      border-left-color: var(--fill-color);\n",
              "      border-top-color: var(--fill-color);\n",
              "    }\n",
              "    30% {\n",
              "      border-color: transparent;\n",
              "      border-left-color: var(--fill-color);\n",
              "      border-top-color: var(--fill-color);\n",
              "      border-right-color: var(--fill-color);\n",
              "    }\n",
              "    40% {\n",
              "      border-color: transparent;\n",
              "      border-right-color: var(--fill-color);\n",
              "      border-top-color: var(--fill-color);\n",
              "    }\n",
              "    60% {\n",
              "      border-color: transparent;\n",
              "      border-right-color: var(--fill-color);\n",
              "    }\n",
              "    80% {\n",
              "      border-color: transparent;\n",
              "      border-right-color: var(--fill-color);\n",
              "      border-bottom-color: var(--fill-color);\n",
              "    }\n",
              "    90% {\n",
              "      border-color: transparent;\n",
              "      border-bottom-color: var(--fill-color);\n",
              "    }\n",
              "  }\n",
              "</style>\n",
              "\n",
              "      <script>\n",
              "        async function quickchart(key) {\n",
              "          const quickchartButtonEl =\n",
              "            document.querySelector('#' + key + ' button');\n",
              "          quickchartButtonEl.disabled = true;  // To prevent multiple clicks.\n",
              "          quickchartButtonEl.classList.add('colab-df-spinner');\n",
              "          try {\n",
              "            const charts = await google.colab.kernel.invokeFunction(\n",
              "                'suggestCharts', [key], {});\n",
              "          } catch (error) {\n",
              "            console.error('Error during call to suggestCharts:', error);\n",
              "          }\n",
              "          quickchartButtonEl.classList.remove('colab-df-spinner');\n",
              "          quickchartButtonEl.classList.add('colab-df-quickchart-complete');\n",
              "        }\n",
              "        (() => {\n",
              "          let quickchartButtonEl =\n",
              "            document.querySelector('#df-35b5250c-171b-48c7-9313-b73fdf69b8f6 button');\n",
              "          quickchartButtonEl.style.display =\n",
              "            google.colab.kernel.accessAllowed ? 'block' : 'none';\n",
              "        })();\n",
              "      </script>\n",
              "    </div>\n",
              "\n",
              "    </div>\n",
              "  </div>\n"
            ],
            "application/vnd.google.colaboratory.intrinsic+json": {
              "type": "dataframe",
              "variable_name": "data"
            }
          },
          "metadata": {},
          "execution_count": 5
        }
      ]
    },
    {
      "cell_type": "code",
      "source": [
        "data.rename(columns = {'Unnamed: 0':'id'}, inplace = True)"
      ],
      "metadata": {
        "id": "YgGgK9Ztv2cE"
      },
      "execution_count": null,
      "outputs": []
    },
    {
      "cell_type": "code",
      "source": [
        "# convert data to spark\n",
        "sdf = spark.createDataFrame(data)\n",
        "sdf.printSchema()"
      ],
      "metadata": {
        "id": "0cj_6yMBwCkn",
        "colab": {
          "base_uri": "https://localhost:8080/"
        },
        "outputId": "c7670909-a776-41ed-dd5e-75fec6ab34c5"
      },
      "execution_count": null,
      "outputs": [
        {
          "output_type": "stream",
          "name": "stdout",
          "text": [
            "root\n",
            " |-- id: long (nullable = true)\n",
            " |-- hotel: string (nullable = true)\n",
            " |-- is_canceled: long (nullable = true)\n",
            " |-- lead_time: long (nullable = true)\n",
            " |-- arrival_date_year: long (nullable = true)\n",
            " |-- arrival_date_month: string (nullable = true)\n",
            " |-- arrival_date_week_number: long (nullable = true)\n",
            " |-- arrival_date_day_of_month: long (nullable = true)\n",
            " |-- stays_in_weekend_nights: long (nullable = true)\n",
            " |-- stays_in_week_nights: long (nullable = true)\n",
            " |-- adults: long (nullable = true)\n",
            " |-- children: double (nullable = true)\n",
            " |-- babies: long (nullable = true)\n",
            " |-- meal: string (nullable = true)\n",
            " |-- country: string (nullable = true)\n",
            " |-- distribution_channel: string (nullable = true)\n",
            " |-- is_repeated_guest: long (nullable = true)\n",
            " |-- previous_cancellations: long (nullable = true)\n",
            " |-- previous_bookings_not_canceled: long (nullable = true)\n",
            " |-- reserved_room_type: string (nullable = true)\n",
            " |-- assigned_room_type: string (nullable = true)\n",
            " |-- booking_changes: long (nullable = true)\n",
            " |-- deposit_type: string (nullable = true)\n",
            " |-- agent: double (nullable = true)\n",
            " |-- company: double (nullable = true)\n",
            " |-- days_in_waiting_list: long (nullable = true)\n",
            " |-- customer_type: string (nullable = true)\n",
            " |-- adr: double (nullable = true)\n",
            " |-- required_car_parking_spaces: long (nullable = true)\n",
            " |-- total_of_special_requests: long (nullable = true)\n",
            "\n"
          ]
        }
      ]
    },
    {
      "cell_type": "code",
      "source": [
        "#found nan values in agent , company (most of it nan) so we can drop it just in case it conflict with anything later on\n",
        "#droping company\n",
        "sdf = sdf.drop(\"company\")\n",
        "#handle nan values in agent using mean\n",
        "sdf = sdf.na.fill(value=0,subset=[\"agent\"])\n",
        "# removing the rows with undefined vlues in the meal column\n",
        "sdf = sdf.filter(col(\"meal\") != \"Undefined\")\n",
        "\n",
        "#) Handle duplicates\n",
        "sdf = sdf.dropDuplicates()\n"
      ],
      "metadata": {
        "id": "M_jX0a3tz3z_"
      },
      "execution_count": null,
      "outputs": []
    },
    {
      "cell_type": "code",
      "source": [
        "# Create new derived columns: Total stay duration, Season and Total guests.\n",
        "sdf = sdf.withColumn(\"total_stay_duration\", sdf[\"stays_in_weekend_nights\"] + sdf[\"stays_in_week_nights\"])\n",
        "# season(Winter, Spring, Summer, Fall)\n",
        "sdf = sdf.withColumn(\"season\", when(sdf[\"arrival_date_month\"].isin([\"December\", \"January\", \"February\"]), \"Winter\") \\\n",
        "                                 .when(sdf[\"arrival_date_month\"].isin([\"March\", \"April\", \"May\"]), \"Spring\") \\\n",
        "                                 .when(sdf[\"arrival_date_month\"].isin([\"June\", \"July\", \"August\"]), \"Summer\") \\\n",
        "                                 .otherwise(\"Fall\")) # Chain when and otherwise for a single expression\n",
        "# total guests\n",
        "sdf = sdf.withColumn(\"total_guests\", sdf[\"adults\"] + sdf[\"children\"] + sdf[\"babies\"])"
      ],
      "metadata": {
        "id": "4wL_JzV71ST5"
      },
      "execution_count": null,
      "outputs": []
    },
    {
      "cell_type": "code",
      "source": [
        "# drop booking , Needed if something we missied in preprocessing\n",
        "spark.sql(\"DROP TABLE IF EXISTS bookings\")"
      ],
      "metadata": {
        "id": "VC-JWNBf8QTO",
        "colab": {
          "base_uri": "https://localhost:8080/"
        },
        "outputId": "0bb87090-3c29-438e-b754-7f9edcee84ec"
      },
      "execution_count": null,
      "outputs": [
        {
          "output_type": "execute_result",
          "data": {
            "text/plain": [
              "DataFrame[]"
            ]
          },
          "metadata": {},
          "execution_count": 10
        }
      ]
    },
    {
      "cell_type": "code",
      "source": [
        "sdf.createTempView(\"bookings\")\n"
      ],
      "metadata": {
        "id": "ZRV6M9rIxa6T"
      },
      "execution_count": null,
      "outputs": []
    },
    {
      "cell_type": "markdown",
      "source": [
        "# Queries Using SparkSQL"
      ],
      "metadata": {
        "id": "xRVC8kPO3RG3"
      }
    },
    {
      "cell_type": "code",
      "source": [
        "#Explore the data well\n",
        "spark.sql(\"SELECT * FROM bookings\").show()"
      ],
      "metadata": {
        "id": "q89R1gR9wSoC",
        "colab": {
          "base_uri": "https://localhost:8080/"
        },
        "outputId": "c38dc183-701e-4b15-a6e0-c16a1116319f"
      },
      "execution_count": null,
      "outputs": [
        {
          "output_type": "stream",
          "name": "stdout",
          "text": [
            "+----+-----------------+-----------+---------+-----------------+------------------+------------------------+-------------------------+-----------------------+--------------------+------+--------+------+----+-------+--------------------+-----------------+----------------------+------------------------------+------------------+------------------+---------------+------------+-----+--------------------+---------------+------+---------------------------+-------------------------+-------------------+------+------------+\n",
            "|  id|            hotel|is_canceled|lead_time|arrival_date_year|arrival_date_month|arrival_date_week_number|arrival_date_day_of_month|stays_in_weekend_nights|stays_in_week_nights|adults|children|babies|meal|country|distribution_channel|is_repeated_guest|previous_cancellations|previous_bookings_not_canceled|reserved_room_type|assigned_room_type|booking_changes|deposit_type|agent|days_in_waiting_list|  customer_type|   adr|required_car_parking_spaces|total_of_special_requests|total_stay_duration|season|total_guests|\n",
            "+----+-----------------+-----------+---------+-----------------+------------------+------------------------+-------------------------+-----------------------+--------------------+------+--------+------+----+-------+--------------------+-----------------+----------------------+------------------------------+------------------+------------------+---------------+------------+-----+--------------------+---------------+------+---------------------------+-------------------------+-------------------+------+------------+\n",
            "|  65|Renaissance Hotel|          0|       10|             2018|              July|                      27|                        3|                      0|                   2|     2|     2.0|     0|  BB|    USA|               TA/TO|                0|                     0|                             0|                 G|                 H|              0|  No Deposit|240.0|                   0|      Transient| 153.0|                          1|                        0|                  2|Summer|         4.0|\n",
            "| 190|Renaissance Hotel|          0|       90|             2018|              July|                      28|                        6|                      4|                  10|     2|     0.0|     0|  BB|    ITA|               TA/TO|                0|                     0|                             0|                 D|                 D|              0|  No Deposit|  8.0|                   0|       Contract| 110.7|                          0|                        0|                 14|Summer|         2.0|\n",
            "| 754|Renaissance Hotel|          1|      101|             2018|              July|                      31|                       27|                      2|                   5|     2|     0.0|     0|  BB|    PRT|               TA/TO|                0|                     0|                             0|                 E|                 E|              0|  No Deposit|240.0|                   0|      Transient| 164.0|                          0|                        2|                  7|Summer|         2.0|\n",
            "| 802|Renaissance Hotel|          1|       66|             2018|              July|                      31|                       30|                      0|                   3|     2|     0.0|     0|  BB|    PRT|               TA/TO|                0|                     0|                             0|                 A|                 A|              0|  No Deposit|240.0|                   0|      Transient| 120.6|                          0|                        0|                  3|Summer|         2.0|\n",
            "| 809|Renaissance Hotel|          1|       64|             2018|              July|                      31|                       30|                      2|                   3|     2|     0.0|     0|  BB|    PRT|               TA/TO|                0|                     0|                             0|                 A|                 A|              1|  No Deposit|240.0|                   0|      Transient| 137.8|                          0|                        0|                  5|Summer|         2.0|\n",
            "| 913|Renaissance Hotel|          1|      111|             2018|            August|                      32|                        5|                      0|                   4|     2|     0.0|     0|  BB|    PRT|               TA/TO|                0|                     0|                             0|                 D|                 D|              1|  No Deposit|240.0|                   0|      Transient| 154.0|                          0|                        1|                  4|Summer|         2.0|\n",
            "|1016|Renaissance Hotel|          0|       35|             2018|            August|                      33|                       10|                      1|                   5|     2|     0.0|     0|  BB|    ESP|               TA/TO|                0|                     0|                             0|                 A|                 A|              0|  No Deposit|241.0|                   0|      Transient|147.07|                          0|                        1|                  6|Summer|         2.0|\n",
            "|1170|Renaissance Hotel|          1|       66|             2018|            August|                      34|                       16|                      2|                   5|     2|     0.0|     0|  BB|    PRT|               TA/TO|                0|                     0|                             0|                 D|                 D|              0|  No Deposit|240.0|                   0|      Transient| 154.0|                          0|                        1|                  7|Summer|         2.0|\n",
            "|1721|Renaissance Hotel|          0|      167|             2018|         September|                      37|                       10|                      4|                  10|     2|     0.0|     0|  BB|    IRL|               TA/TO|                0|                     0|                             0|                 A|                 A|              0|  No Deposit|156.0|                   0|       Contract| 50.15|                          0|                        2|                 14|  Fall|         2.0|\n",
            "|2189|Renaissance Hotel|          1|      170|             2018|           October|                      41|                        4|                      4|                   8|     2|     0.0|     0|  BB|     CN|               TA/TO|                0|                     0|                             0|                 A|                 A|              0|  Non Refund| 15.0|                   0|      Transient|  44.5|                          0|                        0|                 12|  Fall|         2.0|\n",
            "|2340|Renaissance Hotel|          0|        0|             2018|           October|                      41|                        9|                      2|                   2|     2|     0.0|     0|  BB|    ISR|              Direct|                0|                     0|                             0|                 A|                 A|              0|  No Deposit|  0.0|                   0|      Transient|  67.0|                          0|                        0|                  4|  Fall|         2.0|\n",
            "|2672|Renaissance Hotel|          0|       96|             2018|           October|                      43|                       24|                      2|                   4|     2|     2.0|     0|  BB|    ZMB|               TA/TO|                0|                     0|                             0|                 G|                 G|              0|  No Deposit|240.0|                   0|      Transient| 96.67|                          0|                        3|                  6|  Fall|         4.0|\n",
            "|3160|Renaissance Hotel|          1|      122|             2018|          November|                      47|                       20|                      0|                   2|     2|     0.0|     0|  BB|    PRT|               TA/TO|                0|                     0|                             0|                 A|                 A|              0|  No Deposit|240.0|                   0|      Transient|  32.4|                          0|                        2|                  2|  Fall|         2.0|\n",
            "|3239|Renaissance Hotel|          1|       13|             2018|          November|                      48|                       23|                      2|                   5|     2|     0.0|     0|  BB|    PRT|               TA/TO|                0|                     0|                             0|                 D|                 D|              0|  No Deposit|240.0|                   0|      Transient|  58.0|                          0|                        1|                  7|  Fall|         2.0|\n",
            "|3300|Renaissance Hotel|          1|       34|             2018|          December|                      49|                        4|                      2|                   2|     2|     0.0|     0|  BB|    PRT|               TA/TO|                0|                     0|                             0|                 A|                 A|              1|  No Deposit|240.0|                   0|      Transient|  58.0|                          0|                        2|                  4|Winter|         2.0|\n",
            "|3418|Renaissance Hotel|          1|      149|             2018|          December|                      49|                        5|                      2|                   1|     2|     0.0|     0|  FB|    PRT|               TA/TO|                0|                     0|                             0|                 A|                 A|              0|  Non Refund| 38.0|                   0|      Transient|  68.0|                          0|                        0|                  3|Winter|         2.0|\n",
            "|3910|Renaissance Hotel|          1|       72|             2019|          February|                       6|                        6|                      2|                   1|     2|     0.0|     0|  HB|    PRT|              Direct|                0|                     0|                             0|                 D|                 D|              0|  No Deposit|  0.0|                   0|Transient-Party| 73.33|                          0|                        0|                  3|Winter|         2.0|\n",
            "|3979|Renaissance Hotel|          1|       64|             2019|          February|                       7|                       11|                      1|                   3|     2|     0.0|     0|  BB|    PRT|               TA/TO|                0|                     0|                             0|                 A|                 A|              0|  Non Refund| 15.0|                   0|      Transient|  29.0|                          0|                        0|                  4|Winter|         2.0|\n",
            "|3983|Renaissance Hotel|          0|      230|             2019|          February|                       7|                       11|                      2|                   3|     2|     0.0|     0|  BB|    GBR|               TA/TO|                0|                     0|                             0|                 E|                 E|              0|  No Deposit|314.0|                   0|      Transient|  46.8|                          0|                        0|                  5|Winter|         2.0|\n",
            "|4486|Renaissance Hotel|          0|      135|             2019|             March|                      13|                       20|                      2|                   2|     2|     0.0|     0|  FB|    ESP|               TA/TO|                0|                     0|                             0|                 A|                 D|              0|  No Deposit|  6.0|                   0|      Transient|  67.4|                          0|                        0|                  4|Spring|         2.0|\n",
            "+----+-----------------+-----------+---------+-----------------+------------------+------------------------+-------------------------+-----------------------+--------------------+------+--------+------+----+-------+--------------------+-----------------+----------------------+------------------------------+------------------+------------------+---------------+------------+-----+--------------------+---------------+------+---------------------------+-------------------------+-------------------+------+------------+\n",
            "only showing top 20 rows\n",
            "\n"
          ]
        }
      ]
    },
    {
      "cell_type": "code",
      "source": [
        "# Compute the cancellation rate as (number of cancellations / total bookings)*100 per country, and\n",
        "# list the top five countries have the highest cancellation rates.\n",
        "spark.sql(\"SELECT country, AVG(is_canceled) * 100 AS cancellation_rate FROM bookings GROUP BY country ORDER BY cancellation_rate DESC LIMIT 5\").show()\n"
      ],
      "metadata": {
        "id": "CvI_Fs-5zKKj",
        "colab": {
          "base_uri": "https://localhost:8080/"
        },
        "outputId": "eb1f4999-c34a-48f0-c472-4d71c438cb2a"
      },
      "execution_count": null,
      "outputs": [
        {
          "output_type": "stream",
          "name": "stdout",
          "text": [
            "+-------+-----------------+\n",
            "|country|cancellation_rate|\n",
            "+-------+-----------------+\n",
            "|    KHM|            100.0|\n",
            "|    IMN|            100.0|\n",
            "|    JEY|            100.0|\n",
            "|    NIC|            100.0|\n",
            "|    BEN|            100.0|\n",
            "+-------+-----------------+\n",
            "\n"
          ]
        }
      ]
    },
    {
      "cell_type": "code",
      "source": [
        "# Identify which season (Winter, Spring, Summer, Fall) has the highest cancellation rate for\n",
        "# bookings with lead time > 100 days. (Define seasons based on arrival_date_month)\n",
        "spark.sql(\"SELECT season, AVG(is_canceled) * 100 AS cancellation_rate FROM bookings WHERE lead_time > 100 GROUP BY season ORDER BY cancellation_rate DESC LIMIT 1\").show()"
      ],
      "metadata": {
        "id": "vrZpANrL8C_t",
        "colab": {
          "base_uri": "https://localhost:8080/"
        },
        "outputId": "0f834f1d-badd-44e4-f5ee-3ef0d2a1bc22"
      },
      "execution_count": null,
      "outputs": [
        {
          "output_type": "stream",
          "name": "stdout",
          "text": [
            "+------+------------------+\n",
            "|season| cancellation_rate|\n",
            "+------+------------------+\n",
            "|Winter|60.533255200703195|\n",
            "+------+------------------+\n",
            "\n"
          ]
        }
      ]
    },
    {
      "cell_type": "code",
      "source": [
        "# Which reserved room types experience the highest mismatch with the assigned room type?\n",
        "# (Where they differ).\n",
        "spark.sql(\"SELECT reserved_room_type, assigned_room_type, COUNT(*) AS mismatch_count FROM bookings WHERE reserved_room_type != assigned_room_type GROUP BY reserved_room_type, assigned_room_type ORDER BY mismatch_count DESC LIMIT 1\").show()"
      ],
      "metadata": {
        "id": "pGU6szf9-MdA",
        "colab": {
          "base_uri": "https://localhost:8080/"
        },
        "outputId": "c5000879-eedb-43c5-dded-1f35fbe9e88c"
      },
      "execution_count": null,
      "outputs": [
        {
          "output_type": "stream",
          "name": "stdout",
          "text": [
            "+------------------+------------------+--------------+\n",
            "|reserved_room_type|assigned_room_type|mismatch_count|\n",
            "+------------------+------------------+--------------+\n",
            "|                 A|                 D|          7492|\n",
            "+------------------+------------------+--------------+\n",
            "\n"
          ]
        }
      ]
    },
    {
      "cell_type": "code",
      "source": [
        "# Which distribution channel shows the lowest cancellation rate and what is its average revenue per\n",
        "# booking (ADR x total nights)?\n",
        "spark.sql(\"SELECT distribution_channel, AVG(is_canceled) * 100 AS cancellation_rate, AVG(adr * total_stay_duration) AS avg_revenue_per_booking FROM bookings GROUP BY distribution_channel ORDER BY cancellation_rate ASC LIMIT 1\").show()"
      ],
      "metadata": {
        "id": "g4AhcmEK-nMA",
        "colab": {
          "base_uri": "https://localhost:8080/"
        },
        "outputId": "890c4ca7-1c1f-4ca7-ef04-0d6d2988ddfd"
      },
      "execution_count": null,
      "outputs": [
        {
          "output_type": "stream",
          "name": "stdout",
          "text": [
            "+--------------------+------------------+-----------------------+\n",
            "|distribution_channel| cancellation_rate|avg_revenue_per_booking|\n",
            "+--------------------+------------------+-----------------------+\n",
            "|              Direct|17.506262176454214|       371.206956582243|\n",
            "+--------------------+------------------+-----------------------+\n",
            "\n"
          ]
        }
      ]
    },
    {
      "cell_type": "code",
      "source": [
        "# Which meal types are most common among bookings with more than 3 total guests?\n",
        "spark.sql(\"SELECT meal, COUNT(*) AS booking_count FROM bookings WHERE total_guests > 3 GROUP BY meal ORDER BY booking_count DESC\").show()"
      ],
      "metadata": {
        "id": "3hH7fWlv-x36",
        "colab": {
          "base_uri": "https://localhost:8080/"
        },
        "outputId": "bb0db208-183f-4b0e-9658-f19994798480"
      },
      "execution_count": null,
      "outputs": [
        {
          "output_type": "stream",
          "name": "stdout",
          "text": [
            "+----+-------------+\n",
            "|meal|booking_count|\n",
            "+----+-------------+\n",
            "|  BB|         3428|\n",
            "|  HB|          597|\n",
            "|  SC|           26|\n",
            "|  FB|           21|\n",
            "+----+-------------+\n",
            "\n"
          ]
        }
      ]
    },
    {
      "cell_type": "markdown",
      "source": [
        "# Using Spark DataFrame"
      ],
      "metadata": {
        "id": "58qSNOuxIKrw"
      }
    },
    {
      "cell_type": "code",
      "source": [
        "sdf.groupBy(\"country\") \\\n",
        "   .agg((avg(\"is_canceled\") * 100).alias(\"cancellation_rate\")) \\\n",
        "   .orderBy(col(\"cancellation_rate\").desc()) \\\n",
        "   .limit(5) \\\n",
        "   .show()"
      ],
      "metadata": {
        "id": "7gXQqdotIPn7",
        "colab": {
          "base_uri": "https://localhost:8080/"
        },
        "outputId": "6bfea0a7-5423-40fc-a172-42229286e2e0"
      },
      "execution_count": null,
      "outputs": [
        {
          "output_type": "stream",
          "name": "stdout",
          "text": [
            "+-------+-----------------+\n",
            "|country|cancellation_rate|\n",
            "+-------+-----------------+\n",
            "|    KHM|            100.0|\n",
            "|    IMN|            100.0|\n",
            "|    JEY|            100.0|\n",
            "|    NIC|            100.0|\n",
            "|    BEN|            100.0|\n",
            "+-------+-----------------+\n",
            "\n"
          ]
        }
      ]
    },
    {
      "cell_type": "code",
      "source": [
        "sdf.filter(col(\"lead_time\") > 100) \\\n",
        "   .groupBy(\"season\") \\\n",
        "   .agg((avg(\"is_canceled\") * 100).alias(\"cancellation_rate\")) \\\n",
        "   .orderBy(col(\"cancellation_rate\").desc()) \\\n",
        "   .limit(1) \\\n",
        "   .show()"
      ],
      "metadata": {
        "colab": {
          "base_uri": "https://localhost:8080/"
        },
        "id": "mQce6_6OUddM",
        "outputId": "2aaea2f5-6e30-4b2b-8f93-3d3aa16b9903"
      },
      "execution_count": null,
      "outputs": [
        {
          "output_type": "stream",
          "name": "stdout",
          "text": [
            "+------+------------------+\n",
            "|season| cancellation_rate|\n",
            "+------+------------------+\n",
            "|Winter|60.533255200703195|\n",
            "+------+------------------+\n",
            "\n"
          ]
        }
      ]
    },
    {
      "cell_type": "code",
      "source": [
        "sdf.filter(col(\"reserved_room_type\") != col(\"assigned_room_type\")) \\\n",
        "   .groupBy(\"reserved_room_type\", \"assigned_room_type\") \\\n",
        "   .count() \\\n",
        "   .orderBy(col(\"count\").desc()) \\\n",
        "   .limit(1) \\\n",
        "   .show()"
      ],
      "metadata": {
        "colab": {
          "base_uri": "https://localhost:8080/"
        },
        "id": "rEyMffLdUf3y",
        "outputId": "b07bba94-c6d8-4440-8239-0f028aff1473"
      },
      "execution_count": null,
      "outputs": [
        {
          "output_type": "stream",
          "name": "stdout",
          "text": [
            "+------------------+------------------+-----+\n",
            "|reserved_room_type|assigned_room_type|count|\n",
            "+------------------+------------------+-----+\n",
            "|                 A|                 D| 7492|\n",
            "+------------------+------------------+-----+\n",
            "\n"
          ]
        }
      ]
    },
    {
      "cell_type": "code",
      "source": [
        "sdf.groupBy(\"distribution_channel\") \\\n",
        "   .agg((avg(\"is_canceled\") * 100).alias(\"cancellation_rate\"),\n",
        "        avg(col(\"adr\") * col(\"total_stay_duration\")).alias(\"avg_revenue_per_booking\")) \\\n",
        "   .orderBy(col(\"cancellation_rate\").asc()) \\\n",
        "   .limit(1) \\\n",
        "   .show()"
      ],
      "metadata": {
        "colab": {
          "base_uri": "https://localhost:8080/"
        },
        "id": "lz8n3RAlUhj8",
        "outputId": "f07b64a7-a10e-4a94-a1bb-7a3de7812177"
      },
      "execution_count": null,
      "outputs": [
        {
          "output_type": "stream",
          "name": "stdout",
          "text": [
            "+--------------------+------------------+-----------------------+\n",
            "|distribution_channel| cancellation_rate|avg_revenue_per_booking|\n",
            "+--------------------+------------------+-----------------------+\n",
            "|              Direct|17.506262176454214|       371.206956582243|\n",
            "+--------------------+------------------+-----------------------+\n",
            "\n"
          ]
        }
      ]
    },
    {
      "cell_type": "code",
      "source": [
        "sdf.filter(col(\"total_guests\") > 3) \\\n",
        "   .groupBy(\"meal\") \\\n",
        "   .count() \\\n",
        "   .orderBy(col(\"count\").desc()) \\\n",
        "   .show()"
      ],
      "metadata": {
        "colab": {
          "base_uri": "https://localhost:8080/"
        },
        "id": "6JYjavtNUjwq",
        "outputId": "ef0260c1-3f55-48d9-8eae-f6d10dff5de4"
      },
      "execution_count": null,
      "outputs": [
        {
          "output_type": "stream",
          "name": "stdout",
          "text": [
            "+----+-----+\n",
            "|meal|count|\n",
            "+----+-----+\n",
            "|  BB| 3428|\n",
            "|  HB|  597|\n",
            "|  SC|   26|\n",
            "|  FB|   21|\n",
            "+----+-----+\n",
            "\n"
          ]
        }
      ]
    },
    {
      "cell_type": "markdown",
      "source": [
        "# Visuliazing\n"
      ],
      "metadata": {
        "id": "7vYdWwtbWF_y"
      }
    },
    {
      "cell_type": "code",
      "source": [
        "\n",
        "import pandas as pd\n",
        "import matplotlib.pyplot as plt\n",
        "\n",
        "\n",
        "lead_time_cancellation = sdf.select(\"lead_time\", \"is_canceled\")\n",
        "\n",
        "#Convert to Pandas DataFrame for plotting\n",
        "lead_time_cancellation_pd = lead_time_cancellation.toPandas()\n",
        "\n",
        "# boxplot\n",
        "plt.figure(figsize=(10, 6))\n",
        "lead_time_cancellation_pd.boxplot(column='lead_time', by='is_canceled')\n",
        "plt.xlabel(\"Cancellation Status\")\n",
        "plt.ylabel(\"Lead Time\")\n",
        "plt.title(\"Lead Time Distribution by Cancellation Status\")\n",
        "plt.suptitle(\"\")\n",
        "plt.show()\n"
      ],
      "metadata": {
        "id": "qWLd0bqe-5Ol",
        "colab": {
          "base_uri": "https://localhost:8080/",
          "height": 479
        },
        "outputId": "ae11d206-8567-4594-a6dd-2fda28fc986b"
      },
      "execution_count": null,
      "outputs": [
        {
          "output_type": "display_data",
          "data": {
            "text/plain": [
              "<Figure size 1000x600 with 0 Axes>"
            ]
          },
          "metadata": {}
        },
        {
          "output_type": "display_data",
          "data": {
            "text/plain": [
              "<Figure size 640x480 with 1 Axes>"
            ],
            "image/png": "[encoded data removed]"
          },
          "metadata": {}
        }
      ]
    },
    {
      "cell_type": "markdown",
      "source": [
        "# The data shows that cancellations are rare for lead times up to around 400, but they increase noticeably as lead time exceeds 400."
      ],
      "metadata": {
        "id": "C3U_lwrlASdy"
      }
    }
  ]
}